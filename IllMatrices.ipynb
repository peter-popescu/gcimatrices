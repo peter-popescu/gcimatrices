{
 "cells": [
  {
   "cell_type": "code",
   "execution_count": 1,
   "metadata": {},
   "outputs": [
    {
     "name": "stdout",
     "output_type": "stream",
     "text": [
      "20001.000000023138\n",
      "20000.999999964857\n",
      "10000.500024992198\n",
      "476607.25024100044\n",
      "1002003.0000501256\n"
     ]
    }
   ],
   "source": [
    "import numpy\n",
    "import scipy.linalg\n",
    "A = [[1.0001,1],\n",
    "     [1,1.0001]]\n",
    "print(numpy.linalg.cond(A))  #1\n",
    "B = numpy.linalg.inv(A)\n",
    "print(numpy.linalg.cond(B))  #2\n",
    "C = A * B\n",
    "print(numpy.linalg.cond(C))  #3\n",
    "D = scipy.linalg.hilbert(5)\n",
    "print(numpy.linalg.cond(D))  #4\n",
    "condition = 0\n",
    "E = [[401, -201],\n",
    "     [-800, 401]]\n",
    "print(numpy.linalg.cond(E))  #5"
   ]
  },
  {
   "cell_type": "code",
   "execution_count": null,
   "metadata": {},
   "outputs": [],
   "source": []
  }
 ],
 "metadata": {
  "kernelspec": {
   "display_name": "Python 3",
   "language": "python",
   "name": "python3"
  },
  "language_info": {
   "codemirror_mode": {
    "name": "ipython",
    "version": 3
   },
   "file_extension": ".py",
   "mimetype": "text/x-python",
   "name": "python",
   "nbconvert_exporter": "python",
   "pygments_lexer": "ipython3",
   "version": "3.7.4"
  }
 },
 "nbformat": 4,
 "nbformat_minor": 2
}
